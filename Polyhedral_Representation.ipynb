{
 "cells": [
  {
   "cell_type": "code",
   "execution_count": 1,
   "metadata": {},
   "outputs": [],
   "source": [
    "import ast # For generating the abstract syntax tree\n",
    "import dis # For generatiog the intermediate representation\n",
    "from IPython.display import display, Markdown # For better displayin gin a jupyter notebook\n",
    "from astroid import parse\n"
   ]
  },
  {
   "cell_type": "markdown",
   "metadata": {},
   "source": [
    "### Loading the program"
   ]
  },
  {
   "cell_type": "code",
   "execution_count": 2,
   "metadata": {},
   "outputs": [
    {
     "data": {
      "text/plain": [
       "'from qiskit import QuantumCircuit\\n\\ndef quantum_rotation_program(angles):\\n    qc = QuantumCircuit(1, 1)\\n    \\n    for angle in angles:\\n        qc.rx(angle, 0)\\n        qc.ry(angle * 2, 0)\\n    \\n    qc.measure(0, 0)\\n    return qc\\n\\n# Example usage\\nangles = [0.1, 0.2, 0.3]\\ncircuit = quantum_rotation_program(angles)'"
      ]
     },
     "execution_count": 2,
     "metadata": {},
     "output_type": "execute_result"
    }
   ],
   "source": [
    "with open('test-programs/simple_quantum.py', 'r') as file:\n",
    "    code = file.read()\n",
    "code"
   ]
  },
  {
   "cell_type": "markdown",
   "metadata": {},
   "source": [
    "### AST with ast module"
   ]
  },
  {
   "cell_type": "code",
   "execution_count": 6,
   "metadata": {},
   "outputs": [
    {
     "data": {
      "text/markdown": [
       "```python\n",
       "Module(\n",
       "    body=[\n",
       "        ImportFrom(\n",
       "            module='qiskit',\n",
       "            names=[\n",
       "                alias(name='QuantumCircuit')],\n",
       "            level=0),\n",
       "        FunctionDef(\n",
       "            name='quantum_rotation_program',\n",
       "            args=arguments(\n",
       "                posonlyargs=[],\n",
       "                args=[\n",
       "                    arg(arg='angles')],\n",
       "                kwonlyargs=[],\n",
       "                kw_defaults=[],\n",
       "                defaults=[]),\n",
       "            body=[\n",
       "                Assign(\n",
       "                    targets=[\n",
       "                        Name(id='qc', ctx=Store())],\n",
       "                    value=Call(\n",
       "                        func=Name(id='QuantumCircuit', ctx=Load()),\n",
       "                        args=[\n",
       "                            Constant(value=1),\n",
       "                            Constant(value=1)],\n",
       "                        keywords=[])),\n",
       "                For(\n",
       "                    target=Name(id='angle', ctx=Store()),\n",
       "                    iter=Name(id='angles', ctx=Load()),\n",
       "                    body=[\n",
       "                        Expr(\n",
       "                            value=Call(\n",
       "                                func=Attribute(\n",
       "                                    value=Name(id='qc', ctx=Load()),\n",
       "                                    attr='rx',\n",
       "                                    ctx=Load()),\n",
       "                                args=[\n",
       "                                    Name(id='angle', ctx=Load()),\n",
       "                                    Constant(value=0)],\n",
       "                                keywords=[])),\n",
       "                        Expr(\n",
       "                            value=Call(\n",
       "                                func=Attribute(\n",
       "                                    value=Name(id='qc', ctx=Load()),\n",
       "                                    attr='ry',\n",
       "                                    ctx=Load()),\n",
       "                                args=[\n",
       "                                    BinOp(\n",
       "                                        left=Name(id='angle', ctx=Load()),\n",
       "                                        op=Mult(),\n",
       "                                        right=Constant(value=2)),\n",
       "                                    Constant(value=0)],\n",
       "                                keywords=[]))],\n",
       "                    orelse=[]),\n",
       "                Expr(\n",
       "                    value=Call(\n",
       "                        func=Attribute(\n",
       "                            value=Name(id='qc', ctx=Load()),\n",
       "                            attr='measure',\n",
       "                            ctx=Load()),\n",
       "                        args=[\n",
       "                            Constant(value=0),\n",
       "                            Constant(value=0)],\n",
       "                        keywords=[])),\n",
       "                Return(\n",
       "                    value=Name(id='qc', ctx=Load()))],\n",
       "            decorator_list=[]),\n",
       "        Assign(\n",
       "            targets=[\n",
       "                Name(id='angles', ctx=Store())],\n",
       "            value=List(\n",
       "                elts=[\n",
       "                    Constant(value=0.1),\n",
       "                    Constant(value=0.2),\n",
       "                    Constant(value=0.3)],\n",
       "                ctx=Load())),\n",
       "        Assign(\n",
       "            targets=[\n",
       "                Name(id='circuit', ctx=Store())],\n",
       "            value=Call(\n",
       "                func=Name(id='quantum_rotation_program', ctx=Load()),\n",
       "                args=[\n",
       "                    Name(id='angles', ctx=Load())],\n",
       "                keywords=[]))],\n",
       "    type_ignores=[])\n",
       "```"
      ],
      "text/plain": [
       "<IPython.core.display.Markdown object>"
      ]
     },
     "metadata": {},
     "output_type": "display_data"
    }
   ],
   "source": [
    "tree = ast.parse(code)\n",
    "\n",
    "formatted_ast = ast.dump(tree, indent=4)\n",
    "\n",
    "display(Markdown(f\"```python\\n{formatted_ast}\\n```\"))"
   ]
  },
  {
   "cell_type": "code",
   "execution_count": 7,
   "metadata": {},
   "outputs": [
    {
     "data": {
      "text/plain": [
       "<Module l.0 at 0x21a40b63f70>"
      ]
     },
     "execution_count": 7,
     "metadata": {},
     "output_type": "execute_result"
    }
   ],
   "source": [
    "module = parse(code)\n",
    "module"
   ]
  },
  {
   "cell_type": "markdown",
   "metadata": {},
   "source": [
    "### IR with dis module"
   ]
  },
  {
   "cell_type": "code",
   "execution_count": 9,
   "metadata": {},
   "outputs": [
    {
     "name": "stdout",
     "output_type": "stream",
     "text": [
      "  1           0 LOAD_CONST               0 (0)\n",
      "              2 LOAD_CONST               1 (('QuantumCircuit',))\n",
      "              4 IMPORT_NAME              0 (qiskit)\n",
      "              6 IMPORT_FROM              1 (QuantumCircuit)\n",
      "              8 STORE_NAME               1 (QuantumCircuit)\n",
      "             10 POP_TOP\n",
      "\n",
      "  3          12 LOAD_CONST               2 (<code object quantum_rotation_program at 0x00000218AE415A50, file \"simple_loop.py\", line 3>)\n",
      "             14 LOAD_CONST               3 ('quantum_rotation_program')\n",
      "             16 MAKE_FUNCTION            0\n",
      "             18 STORE_NAME               2 (quantum_rotation_program)\n",
      "\n",
      " 14          20 BUILD_LIST               0\n",
      "             22 LOAD_CONST               4 ((0.1, 0.2, 0.3))\n",
      "             24 LIST_EXTEND              1\n",
      "             26 STORE_NAME               3 (angles)\n",
      "\n",
      " 15          28 LOAD_NAME                2 (quantum_rotation_program)\n",
      "             30 LOAD_NAME                3 (angles)\n",
      "             32 CALL_FUNCTION            1\n",
      "             34 STORE_NAME               4 (circuit)\n",
      "             36 LOAD_CONST               5 (None)\n",
      "             38 RETURN_VALUE\n",
      "\n",
      "Disassembly of <code object quantum_rotation_program at 0x00000218AE415A50, file \"simple_loop.py\", line 3>:\n",
      "  4           0 LOAD_GLOBAL              0 (QuantumCircuit)\n",
      "              2 LOAD_CONST               1 (1)\n",
      "              4 LOAD_CONST               1 (1)\n",
      "              6 CALL_FUNCTION            2\n",
      "              8 STORE_FAST               1 (qc)\n",
      "\n",
      "  6          10 LOAD_FAST                0 (angles)\n",
      "             12 GET_ITER\n",
      "        >>   14 FOR_ITER                16 (to 48)\n",
      "             16 STORE_FAST               2 (angle)\n",
      "\n",
      "  7          18 LOAD_FAST                1 (qc)\n",
      "             20 LOAD_METHOD              1 (rx)\n",
      "             22 LOAD_FAST                2 (angle)\n",
      "             24 LOAD_CONST               2 (0)\n",
      "             26 CALL_METHOD              2\n",
      "             28 POP_TOP\n",
      "\n",
      "  8          30 LOAD_FAST                1 (qc)\n",
      "             32 LOAD_METHOD              2 (ry)\n",
      "             34 LOAD_FAST                2 (angle)\n",
      "             36 LOAD_CONST               3 (2)\n",
      "             38 BINARY_MULTIPLY\n",
      "             40 LOAD_CONST               2 (0)\n",
      "             42 CALL_METHOD              2\n",
      "             44 POP_TOP\n",
      "             46 JUMP_ABSOLUTE            7 (to 14)\n",
      "\n",
      " 10     >>   48 LOAD_FAST                1 (qc)\n",
      "             50 LOAD_METHOD              3 (measure)\n",
      "             52 LOAD_CONST               2 (0)\n",
      "             54 LOAD_CONST               2 (0)\n",
      "             56 CALL_METHOD              2\n",
      "             58 POP_TOP\n",
      "\n",
      " 11          60 LOAD_FAST                1 (qc)\n",
      "             62 RETURN_VALUE\n"
     ]
    }
   ],
   "source": [
    "compiled_code = compile(code, filename=\"simple_loop.py\", mode=\"exec\")\n",
    "\n",
    "IR = dis.dis(compiled_code)"
   ]
  },
  {
   "cell_type": "markdown",
   "metadata": {},
   "source": [
    "### IR with LLVM"
   ]
  },
  {
   "cell_type": "code",
   "execution_count": 9,
   "metadata": {},
   "outputs": [
    {
     "name": "stdout",
     "output_type": "stream",
     "text": [
      "{(int64,): '; ModuleID = \\'example_func\\'\\nsource_filename = \"<string>\"\\ntarget datalayout = \"e-m:e-p270:32:32-p271:32:32-p272:64:64-i64:64-f80:128-n8:16:32:64-S128\"\\ntarget triple = \"x86_64-pc-windows-msvc\"\\n\\n@.const.example_func = internal constant [13 x i8] c\"example_func\\\\00\"\\n@_ZN08NumbaEnv8__main__12example_funcB2v1B38c8tJTIeFIjxB2IKSgI4CrvQClQZ6FczSBAA_3dEx = common local_unnamed_addr global i8* null\\n@\".const.missing Environment: _ZN08NumbaEnv8__main__12example_funcB2v1B38c8tJTIeFIjxB2IKSgI4CrvQClQZ6FczSBAA_3dEx\" = internal constant [105 x i8] c\"missing Environment: _ZN08NumbaEnv8__main__12example_funcB2v1B38c8tJTIeFIjxB2IKSgI4CrvQClQZ6FczSBAA_3dEx\\\\00\"\\n@PyExc_RuntimeError = external global i8\\n\\n; Function Attrs: nofree norecurse nosync nounwind writeonly\\ndefine i32 @_ZN8__main__12example_funcB2v1B38c8tJTIeFIjxB2IKSgI4CrvQClQZ6FczSBAA_3dEx(i64* noalias nocapture writeonly %retptr, { i8*, i32, i8*, i8*, i32 }** noalias nocapture readnone %excinfo, i64 %arg.n) local_unnamed_addr #0 {\\nB0.endif:\\n  %.45.inv = icmp sgt i64 %arg.n, 0\\n  %spec.select = select i1 %.45.inv, i64 %arg.n, i64 0\\n  br i1 %.45.inv, label %B16.preheader, label %common.ret\\n\\nB16.preheader:                                    ; preds = %B0.endif\\n  %0 = shl nuw i64 %spec.select, 1\\n  %1 = add nsw i64 %spec.select, -1\\n  %2 = add nsw i64 %spec.select, -2\\n  %3 = mul i64 %1, %2\\n  %4 = and i64 %3, -2\\n  %5 = add i64 %0, %4\\n  %6 = add i64 %5, -2\\n  br label %common.ret\\n\\ncommon.ret:                                       ; preds = %B16.preheader, %B0.endif\\n  %total.2.0.lcssa = phi i64 [ 0, %B0.endif ], [ %6, %B16.preheader ]\\n  store i64 %total.2.0.lcssa, i64* %retptr, align 8\\n  ret i32 0\\n}\\n\\ndefine i8* @_ZN7cpython8__main__12example_funcB2v1B38c8tJTIeFIjxB2IKSgI4CrvQClQZ6FczSBAA_3dEx(i8* nocapture readnone %py_closure, i8* %py_args, i8* nocapture readnone %py_kws) local_unnamed_addr {\\nentry:\\n  %.5 = alloca i8*, align 8\\n  %.6 = call i32 (i8*, i8*, i64, i64, ...) @PyArg_UnpackTuple(i8* %py_args, i8* getelementptr inbounds ([13 x i8], [13 x i8]* @.const.example_func, i64 0, i64 0), i64 1, i64 1, i8** nonnull %.5)\\n  %.7 = icmp eq i32 %.6, 0\\n  %.36 = alloca i64, align 8\\n  br i1 %.7, label %common.ret, label %entry.endif, !prof !0\\n\\ncommon.ret:                                       ; preds = %entry.endif.endif.endif, %entry, %entry.endif.endif.endif.endif, %entry.endif.if\\n  %common.ret.op = phi i8* [ null, %entry.endif.if ], [ %.57, %entry.endif.endif.endif.endif ], [ null, %entry ], [ null, %entry.endif.endif.endif ]\\n  ret i8* %common.ret.op\\n\\nentry.endif:                                      ; preds = %entry\\n  %.11 = load i8*, i8** @_ZN08NumbaEnv8__main__12example_funcB2v1B38c8tJTIeFIjxB2IKSgI4CrvQClQZ6FczSBAA_3dEx, align 8\\n  %.16 = icmp eq i8* %.11, null\\n  br i1 %.16, label %entry.endif.if, label %entry.endif.endif, !prof !0\\n\\nentry.endif.if:                                   ; preds = %entry.endif\\n  call void @PyErr_SetString(i8* nonnull @PyExc_RuntimeError, i8* getelementptr inbounds ([105 x i8], [105 x i8]* @\".const.missing Environment: _ZN08NumbaEnv8__main__12example_funcB2v1B38c8tJTIeFIjxB2IKSgI4CrvQClQZ6FczSBAA_3dEx\", i64 0, i64 0))\\n  br label %common.ret\\n\\nentry.endif.endif:                                ; preds = %entry.endif\\n  %.20 = load i8*, i8** %.5, align 8\\n  %.23 = call i8* @PyNumber_Long(i8* %.20)\\n  %.24.not = icmp eq i8* %.23, null\\n  br i1 %.24.not, label %entry.endif.endif.endif, label %entry.endif.endif.if, !prof !0\\n\\nentry.endif.endif.if:                             ; preds = %entry.endif.endif\\n  %.26 = call i64 @PyLong_AsLongLong(i8* nonnull %.23)\\n  call void @Py_DecRef(i8* nonnull %.23)\\n  br label %entry.endif.endif.endif\\n\\nentry.endif.endif.endif:                          ; preds = %entry.endif.endif.if, %entry.endif.endif\\n  %.21.0 = phi i64 [ %.26, %entry.endif.endif.if ], [ 0, %entry.endif.endif ]\\n  %.31 = call i8* @PyErr_Occurred()\\n  %.32.not = icmp eq i8* %.31, null\\n  br i1 %.32.not, label %entry.endif.endif.endif.endif, label %common.ret, !prof !1\\n\\nentry.endif.endif.endif.endif:                    ; preds = %entry.endif.endif.endif\\n  store i64 0, i64* %.36, align 8\\n  %.40 = call i32 @_ZN8__main__12example_funcB2v1B38c8tJTIeFIjxB2IKSgI4CrvQClQZ6FczSBAA_3dEx(i64* nonnull %.36, { i8*, i32, i8*, i8*, i32 }** nonnull undef, i64 %.21.0) #1\\n  %.50 = load i64, i64* %.36, align 8\\n  %.57 = call i8* @PyLong_FromLongLong(i64 %.50)\\n  br label %common.ret\\n}\\n\\ndeclare i32 @PyArg_UnpackTuple(i8*, i8*, i64, i64, ...) local_unnamed_addr\\n\\ndeclare void @PyErr_SetString(i8*, i8*) local_unnamed_addr\\n\\ndeclare i8* @PyNumber_Long(i8*) local_unnamed_addr\\n\\ndeclare i64 @PyLong_AsLongLong(i8*) local_unnamed_addr\\n\\ndeclare void @Py_DecRef(i8*) local_unnamed_addr\\n\\ndeclare i8* @PyErr_Occurred() local_unnamed_addr\\n\\ndeclare i8* @PyLong_FromLongLong(i64) local_unnamed_addr\\n\\n; Function Attrs: nofree norecurse nosync nounwind writeonly\\ndefine i64 @cfunc._ZN8__main__12example_funcB2v1B38c8tJTIeFIjxB2IKSgI4CrvQClQZ6FczSBAA_3dEx(i64 %.1) local_unnamed_addr #0 {\\nentry:\\n  %.3 = alloca i64, align 8\\n  store i64 0, i64* %.3, align 8\\n  %.7 = call i32 @_ZN8__main__12example_funcB2v1B38c8tJTIeFIjxB2IKSgI4CrvQClQZ6FczSBAA_3dEx(i64* nonnull %.3, { i8*, i32, i8*, i8*, i32 }** nonnull undef, i64 %.1) #1\\n  %.17 = load i64, i64* %.3, align 8\\n  ret i64 %.17\\n}\\n\\nattributes #0 = { nofree norecurse nosync nounwind writeonly }\\nattributes #1 = { noinline }\\n\\n!0 = !{!\"branch_weights\", i32 1, i32 99}\\n!1 = !{!\"branch_weights\", i32 99, i32 1}\\n'}\n"
     ]
    }
   ],
   "source": [
    "from numba import jit\n",
    "import llvmlite.binding as llvm\n",
    "\n",
    "@jit\n",
    "def example_func(n):\n",
    "    total = 0\n",
    "    for i in range(n):\n",
    "        total += i * 2\n",
    "    return total\n",
    "\n",
    "example_func(10)\n",
    "\n",
    "# Print LLVM IR\n",
    "print(example_func.inspect_llvm())"
   ]
  }
 ],
 "metadata": {
  "kernelspec": {
   "display_name": "Python 3",
   "language": "python",
   "name": "python3"
  },
  "language_info": {
   "codemirror_mode": {
    "name": "ipython",
    "version": 3
   },
   "file_extension": ".py",
   "mimetype": "text/x-python",
   "name": "python",
   "nbconvert_exporter": "python",
   "pygments_lexer": "ipython3",
   "version": "3.10.6"
  }
 },
 "nbformat": 4,
 "nbformat_minor": 2
}
